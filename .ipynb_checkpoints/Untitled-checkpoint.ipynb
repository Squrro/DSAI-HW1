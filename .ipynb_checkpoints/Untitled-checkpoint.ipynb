{
 "cells": [
  {
   "cell_type": "code",
   "execution_count": 7,
   "metadata": {},
   "outputs": [
    {
     "name": "stdout",
     "output_type": "stream",
     "text": [
      "Model: \"sequential\"\n",
      "_________________________________________________________________\n",
      "Layer (type)                 Output Shape              Param #   \n",
      "=================================================================\n",
      "lstm (LSTM)                  (None, 1, 10)             520       \n",
      "_________________________________________________________________\n",
      "time_distributed (TimeDistri (None, 1, 1)              11        \n",
      "=================================================================\n",
      "Total params: 531\n",
      "Trainable params: 531\n",
      "Non-trainable params: 0\n",
      "_________________________________________________________________\n"
     ]
    }
   ],
   "source": [
    "import pandas as pd\n",
    "import numpy as np\n",
    "from keras.models import Sequential\n",
    "from keras.layers import Dense, Dropout, Activation, Flatten, LSTM, TimeDistributed, RepeatVector\n",
    "from keras.layers.normalization import BatchNormalization\n",
    "from keras.optimizers import Adam\n",
    "from keras.callbacks import EarlyStopping, ModelCheckpoint\n",
    "import matplotlib.pyplot as plt\n",
    "%matplotlib inline\n",
    "#    model = Model()\n",
    "#    model.train(df_training)\n",
    "#    df_result = model.predict(n_step=7)\n",
    "#    df_result.to_csv(args.output, index=0)\n",
    "\n",
    "df_training = pd.read_csv('./daily_data.csv')\n",
    "df_training.head()\n",
    "\n",
    "df_training[\"date\"] = pd.to_datetime(df_training[\"日期\"])\n",
    "\n",
    "df_training[\"date\"] = df_training[\"日期\"]\n",
    "df_training[\"capacity\"] = df_training[\"備轉容量(萬瓩)\"]\n",
    "df_training[\"percent\"] = df_training[\"備轉容量率(%)\"]\n",
    "\n",
    "futureDay = 5\n",
    "pastDay = 5\n",
    "X_train, Y_train = [], []\n",
    "for i in range(df_training.shape[0]):\n",
    "    X_train.append(np.array(df_training.iloc[i:i+pastDay]))\n",
    "    Y_train.append(np.array(df_training.iloc[i+pastDay:i+pastDay+futureDay][\"備轉容量(萬瓩)\"]))\n",
    "\n",
    "rate = 0.1\n",
    "X_train = X_train[int(df_training.shape[0]*rate):]\n",
    "Y_train = Y_train[int(df_training.shape[0]*rate):]\n",
    "X_val = X_train[:int(df_training.shape[0]*rate)]\n",
    "Y_val = Y_train[:int(df_training.shape[0]*rate)]\n",
    "\n",
    "model = Sequential()\n",
    "model.add(LSTM(10, input_length=1, input_dim=2, return_sequences=True))\n",
    "# output shape: (5, 1)\n",
    "model.add(TimeDistributed(Dense(1)))\n",
    "model.compile(loss=\"mse\", optimizer=\"adam\")\n",
    "model.summary()"
   ]
  }
 ],
 "metadata": {
  "kernelspec": {
   "display_name": "Python 3",
   "language": "python",
   "name": "python3"
  },
  "language_info": {
   "codemirror_mode": {
    "name": "ipython",
    "version": 3
   },
   "file_extension": ".py",
   "mimetype": "text/x-python",
   "name": "python",
   "nbconvert_exporter": "python",
   "pygments_lexer": "ipython3",
   "version": "3.7.3"
  }
 },
 "nbformat": 4,
 "nbformat_minor": 2
}
