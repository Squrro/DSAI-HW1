{
 "cells": [
  {
   "cell_type": "code",
   "execution_count": 14,
   "metadata": {},
   "outputs": [
    {
     "data": {
      "text/plain": [
       "array([[264.2931 ],\n",
       "       [264.3401 ],\n",
       "       [264.37146],\n",
       "       [264.37393],\n",
       "       [264.38345],\n",
       "       [264.39087],\n",
       "       [264.41122],\n",
       "       [264.44177],\n",
       "       [264.46487],\n",
       "       [264.4295 ]], dtype=float32)"
      ]
     },
     "execution_count": 14,
     "metadata": {},
     "output_type": "execute_result"
    }
   ],
   "source": [
    "import pandas as pd\n",
    "import math\n",
    "import pandas_datareader as web\n",
    "import numpy as np\n",
    "from sklearn.preprocessing import MinMaxScaler\n",
    "from keras.models import Sequential\n",
    "from keras.layers import Dense, Dropout, Activation, Flatten, LSTM, TimeDistributed, RepeatVector\n",
    "from keras.layers.normalization import BatchNormalization\n",
    "from keras.optimizers import Adam\n",
    "from keras.callbacks import EarlyStopping, ModelCheckpoint\n",
    "\n",
    "\n",
    "df = pd.read_csv('./daily_data.csv')\n",
    "\n",
    "data = df.filter(['capacity'])\n",
    "dataset = data.values\n",
    "train_data_len = math.ceil(len(dataset))\n",
    "\n",
    "scaler = MinMaxScaler(feature_range=(0,1))\n",
    "scaled_data = scaler.fit_transform(dataset)\n",
    "\n",
    "train_data = scaled_data[0:train_data_len,:]\n",
    "x_train = []\n",
    "y_train = []\n",
    "for i in range(73,len(train_data)):\n",
    "    x_train.append(train_data[i-73:i,0])\n",
    "    y_train.append(train_data[i:0])\n",
    "\n",
    "x_train, y_train = np.array(x_train), np.array(y_train)\n",
    "x_train = np.reshape(x_train, (x_train.shape[0], x_train.shape[1],1))\n",
    "\n",
    "model = Sequential()\n",
    "model.add(LSTM(50,return_sequences = True,input_shape=(x_train.shape[1],1)))\n",
    "model.add(LSTM(50,return_sequences = False))\n",
    "model.add(Dense(25))\n",
    "model.add(Dense(1))\n",
    "\n",
    "\n",
    "model.compile(optimizer='adam', loss = 'mean_squared_error')\n",
    "\n",
    "model.fit(x_train,y_train,batch_size=70,epochs=1)\n",
    "\n",
    "test_data = scaled_data[train_data_len - 73, :]\n",
    "x_test = []\n",
    "y_test = dataset[train_data_len:,:]\n",
    "for i in range(70,len(test_data)):\n",
    "    x_test.append(test_data[i-73:i,0])\n",
    "\n",
    "x_test = np.array(x_test)\n",
    "\n",
    "x_test = np.reshape(x_test, (x_test.shape[0],73,1))\n",
    "\n",
    "prediction = model.predict(x_train)\n",
    "prediction = scaler.inverse_transform(prediction)\n",
    "\n",
    "import csv\n",
    "\n",
    "with open(args.output,'w',newline='') as csvfile:\n",
    "    writer = csv.writer(csvfile)\n",
    "    writer.writerow(['date','operating_reserve(HW)'])\n",
    "    writer.writerow(['20210323',prediction[0]*10])\n",
    "    writer.writerow(['20210324',prediction[1]*10])\n",
    "    writer.writerow(['20210325',prediction[2]*10])\n",
    "    writer.writerow(['20210326',prediction[3]*10])\n",
    "    writer.writerow(['20210327',prediction[4]*10])\n",
    "    writer.writerow(['20210328',prediction[5]*10])\n",
    "    writer.writerow(['20210329',prediction[6]*10])\n",
    "\n",
    "#prediction"
   ]
  }
 ],
 "metadata": {
  "kernelspec": {
   "display_name": "Python 3",
   "language": "python",
   "name": "python3"
  },
  "language_info": {
   "codemirror_mode": {
    "name": "ipython",
    "version": 3
   },
   "file_extension": ".py",
   "mimetype": "text/x-python",
   "name": "python",
   "nbconvert_exporter": "python",
   "pygments_lexer": "ipython3",
   "version": "3.7.3"
  }
 },
 "nbformat": 4,
 "nbformat_minor": 2
}
